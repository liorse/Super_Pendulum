{
 "cells": [
  {
   "cell_type": "code",
   "execution_count": 1,
   "metadata": {},
   "outputs": [],
   "source": [
    "import math\n",
    "import numpy as np"
   ]
  },
  {
   "cell_type": "code",
   "execution_count": 2,
   "metadata": {},
   "outputs": [],
   "source": [
    "def angle(x, l, unc):\n",
    "    base = math.asin(x/l)*180/math.pi\n",
    "    base_plus = abs(math.asin(x/(l+unc))*180/math.pi - base)\n",
    "    base_minus = abs(math.asin(x/(l-unc))*180/math.pi - base)\n",
    "    return (base, max(base_plus, base_minus))"
   ]
  },
  {
   "cell_type": "code",
   "execution_count": 3,
   "metadata": {},
   "outputs": [
    {
     "name": "stdout",
     "output_type": "stream",
     "text": [
      "Length 0.1:, Angle: 0.18±0.03\n",
      "Length 0.2:, Angle: 0.36±0.06\n",
      "Length 0.3:, Angle: 0.55±0.09\n",
      "Length 0.4:, Angle: 0.73±0.12\n",
      "Length 0.5:, Angle: 0.91±0.15\n"
     ]
    }
   ],
   "source": [
    "lengths = np.linspace(0.1,0.5, 5)\n",
    "for length in lengths:\n",
    "    angle_c, uncer = angle(length, 31.5, 4.5) \n",
    "    print(\"Length {a:0.1f}:, Angle: {b:0.2f}±{c:0.2f}\".format(a=length, b=angle_c, c=uncer))"
   ]
  },
  {
   "cell_type": "code",
   "execution_count": null,
   "metadata": {},
   "outputs": [],
   "source": []
  }
 ],
 "metadata": {
  "kernelspec": {
   "display_name": "Python [conda env:sha] *",
   "language": "python",
   "name": "conda-env-sha-py"
  },
  "language_info": {
   "codemirror_mode": {
    "name": "ipython",
    "version": 3
   },
   "file_extension": ".py",
   "mimetype": "text/x-python",
   "name": "python",
   "nbconvert_exporter": "python",
   "pygments_lexer": "ipython3",
   "version": "3.6.12"
  }
 },
 "nbformat": 4,
 "nbformat_minor": 4
}
